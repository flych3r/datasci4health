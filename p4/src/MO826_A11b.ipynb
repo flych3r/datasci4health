{
  "nbformat": 4,
  "nbformat_minor": 0,
  "metadata": {
    "colab": {
      "name": "MO826 - A11b",
      "provenance": [],
      "collapsed_sections": [
        "qeTunKGVPTF4"
      ]
    },
    "kernelspec": {
      "name": "python3",
      "display_name": "Python 3"
    },
    "language_info": {
      "name": "python"
    },
    "widgets": {
      "application/vnd.jupyter.widget-state+json": {
        "b815e62dbe994fe1b56f6b70d1254455": {
          "model_module": "@jupyter-widgets/controls",
          "model_name": "HBoxModel",
          "model_module_version": "1.5.0",
          "state": {
            "_dom_classes": [],
            "_model_module": "@jupyter-widgets/controls",
            "_model_module_version": "1.5.0",
            "_model_name": "HBoxModel",
            "_view_count": null,
            "_view_module": "@jupyter-widgets/controls",
            "_view_module_version": "1.5.0",
            "_view_name": "HBoxView",
            "box_style": "",
            "children": [
              "IPY_MODEL_d8d49119b7f047768fe5a5a033b6080d",
              "IPY_MODEL_c0f9a2906fe545ee9edf78809164709c",
              "IPY_MODEL_c2ddbea9cdd14215a5b68a5594d96479"
            ],
            "layout": "IPY_MODEL_ac15e98441d44d8385bef578ef1071e3"
          }
        },
        "d8d49119b7f047768fe5a5a033b6080d": {
          "model_module": "@jupyter-widgets/controls",
          "model_name": "HTMLModel",
          "model_module_version": "1.5.0",
          "state": {
            "_dom_classes": [],
            "_model_module": "@jupyter-widgets/controls",
            "_model_module_version": "1.5.0",
            "_model_name": "HTMLModel",
            "_view_count": null,
            "_view_module": "@jupyter-widgets/controls",
            "_view_module_version": "1.5.0",
            "_view_name": "HTMLView",
            "description": "",
            "description_tooltip": null,
            "layout": "IPY_MODEL_aa7705e4e9744f38b4a6ac9f39f6525a",
            "placeholder": "​",
            "style": "IPY_MODEL_6a89a93c32a04246aaa0457590c88acb",
            "value": "100%"
          }
        },
        "c0f9a2906fe545ee9edf78809164709c": {
          "model_module": "@jupyter-widgets/controls",
          "model_name": "FloatProgressModel",
          "model_module_version": "1.5.0",
          "state": {
            "_dom_classes": [],
            "_model_module": "@jupyter-widgets/controls",
            "_model_module_version": "1.5.0",
            "_model_name": "FloatProgressModel",
            "_view_count": null,
            "_view_module": "@jupyter-widgets/controls",
            "_view_module_version": "1.5.0",
            "_view_name": "ProgressView",
            "bar_style": "success",
            "description": "",
            "description_tooltip": null,
            "layout": "IPY_MODEL_5bcf9176cce24cd1a2580d69ef95a039",
            "max": 225,
            "min": 0,
            "orientation": "horizontal",
            "style": "IPY_MODEL_b5287f9420bd4f408aad5233c4701c25",
            "value": 225
          }
        },
        "c2ddbea9cdd14215a5b68a5594d96479": {
          "model_module": "@jupyter-widgets/controls",
          "model_name": "HTMLModel",
          "model_module_version": "1.5.0",
          "state": {
            "_dom_classes": [],
            "_model_module": "@jupyter-widgets/controls",
            "_model_module_version": "1.5.0",
            "_model_name": "HTMLModel",
            "_view_count": null,
            "_view_module": "@jupyter-widgets/controls",
            "_view_module_version": "1.5.0",
            "_view_name": "HTMLView",
            "description": "",
            "description_tooltip": null,
            "layout": "IPY_MODEL_15c88e29281b468ca6306498bdcc3244",
            "placeholder": "​",
            "style": "IPY_MODEL_d05c2f7758eb498fb9883f3168376a28",
            "value": " 225/225 [00:36&lt;00:00,  6.17it/s]"
          }
        },
        "ac15e98441d44d8385bef578ef1071e3": {
          "model_module": "@jupyter-widgets/base",
          "model_name": "LayoutModel",
          "model_module_version": "1.2.0",
          "state": {
            "_model_module": "@jupyter-widgets/base",
            "_model_module_version": "1.2.0",
            "_model_name": "LayoutModel",
            "_view_count": null,
            "_view_module": "@jupyter-widgets/base",
            "_view_module_version": "1.2.0",
            "_view_name": "LayoutView",
            "align_content": null,
            "align_items": null,
            "align_self": null,
            "border": null,
            "bottom": null,
            "display": null,
            "flex": null,
            "flex_flow": null,
            "grid_area": null,
            "grid_auto_columns": null,
            "grid_auto_flow": null,
            "grid_auto_rows": null,
            "grid_column": null,
            "grid_gap": null,
            "grid_row": null,
            "grid_template_areas": null,
            "grid_template_columns": null,
            "grid_template_rows": null,
            "height": null,
            "justify_content": null,
            "justify_items": null,
            "left": null,
            "margin": null,
            "max_height": null,
            "max_width": null,
            "min_height": null,
            "min_width": null,
            "object_fit": null,
            "object_position": null,
            "order": null,
            "overflow": null,
            "overflow_x": null,
            "overflow_y": null,
            "padding": null,
            "right": null,
            "top": null,
            "visibility": null,
            "width": null
          }
        },
        "aa7705e4e9744f38b4a6ac9f39f6525a": {
          "model_module": "@jupyter-widgets/base",
          "model_name": "LayoutModel",
          "model_module_version": "1.2.0",
          "state": {
            "_model_module": "@jupyter-widgets/base",
            "_model_module_version": "1.2.0",
            "_model_name": "LayoutModel",
            "_view_count": null,
            "_view_module": "@jupyter-widgets/base",
            "_view_module_version": "1.2.0",
            "_view_name": "LayoutView",
            "align_content": null,
            "align_items": null,
            "align_self": null,
            "border": null,
            "bottom": null,
            "display": null,
            "flex": null,
            "flex_flow": null,
            "grid_area": null,
            "grid_auto_columns": null,
            "grid_auto_flow": null,
            "grid_auto_rows": null,
            "grid_column": null,
            "grid_gap": null,
            "grid_row": null,
            "grid_template_areas": null,
            "grid_template_columns": null,
            "grid_template_rows": null,
            "height": null,
            "justify_content": null,
            "justify_items": null,
            "left": null,
            "margin": null,
            "max_height": null,
            "max_width": null,
            "min_height": null,
            "min_width": null,
            "object_fit": null,
            "object_position": null,
            "order": null,
            "overflow": null,
            "overflow_x": null,
            "overflow_y": null,
            "padding": null,
            "right": null,
            "top": null,
            "visibility": null,
            "width": null
          }
        },
        "6a89a93c32a04246aaa0457590c88acb": {
          "model_module": "@jupyter-widgets/controls",
          "model_name": "DescriptionStyleModel",
          "model_module_version": "1.5.0",
          "state": {
            "_model_module": "@jupyter-widgets/controls",
            "_model_module_version": "1.5.0",
            "_model_name": "DescriptionStyleModel",
            "_view_count": null,
            "_view_module": "@jupyter-widgets/base",
            "_view_module_version": "1.2.0",
            "_view_name": "StyleView",
            "description_width": ""
          }
        },
        "5bcf9176cce24cd1a2580d69ef95a039": {
          "model_module": "@jupyter-widgets/base",
          "model_name": "LayoutModel",
          "model_module_version": "1.2.0",
          "state": {
            "_model_module": "@jupyter-widgets/base",
            "_model_module_version": "1.2.0",
            "_model_name": "LayoutModel",
            "_view_count": null,
            "_view_module": "@jupyter-widgets/base",
            "_view_module_version": "1.2.0",
            "_view_name": "LayoutView",
            "align_content": null,
            "align_items": null,
            "align_self": null,
            "border": null,
            "bottom": null,
            "display": null,
            "flex": null,
            "flex_flow": null,
            "grid_area": null,
            "grid_auto_columns": null,
            "grid_auto_flow": null,
            "grid_auto_rows": null,
            "grid_column": null,
            "grid_gap": null,
            "grid_row": null,
            "grid_template_areas": null,
            "grid_template_columns": null,
            "grid_template_rows": null,
            "height": null,
            "justify_content": null,
            "justify_items": null,
            "left": null,
            "margin": null,
            "max_height": null,
            "max_width": null,
            "min_height": null,
            "min_width": null,
            "object_fit": null,
            "object_position": null,
            "order": null,
            "overflow": null,
            "overflow_x": null,
            "overflow_y": null,
            "padding": null,
            "right": null,
            "top": null,
            "visibility": null,
            "width": null
          }
        },
        "b5287f9420bd4f408aad5233c4701c25": {
          "model_module": "@jupyter-widgets/controls",
          "model_name": "ProgressStyleModel",
          "model_module_version": "1.5.0",
          "state": {
            "_model_module": "@jupyter-widgets/controls",
            "_model_module_version": "1.5.0",
            "_model_name": "ProgressStyleModel",
            "_view_count": null,
            "_view_module": "@jupyter-widgets/base",
            "_view_module_version": "1.2.0",
            "_view_name": "StyleView",
            "bar_color": null,
            "description_width": ""
          }
        },
        "15c88e29281b468ca6306498bdcc3244": {
          "model_module": "@jupyter-widgets/base",
          "model_name": "LayoutModel",
          "model_module_version": "1.2.0",
          "state": {
            "_model_module": "@jupyter-widgets/base",
            "_model_module_version": "1.2.0",
            "_model_name": "LayoutModel",
            "_view_count": null,
            "_view_module": "@jupyter-widgets/base",
            "_view_module_version": "1.2.0",
            "_view_name": "LayoutView",
            "align_content": null,
            "align_items": null,
            "align_self": null,
            "border": null,
            "bottom": null,
            "display": null,
            "flex": null,
            "flex_flow": null,
            "grid_area": null,
            "grid_auto_columns": null,
            "grid_auto_flow": null,
            "grid_auto_rows": null,
            "grid_column": null,
            "grid_gap": null,
            "grid_row": null,
            "grid_template_areas": null,
            "grid_template_columns": null,
            "grid_template_rows": null,
            "height": null,
            "justify_content": null,
            "justify_items": null,
            "left": null,
            "margin": null,
            "max_height": null,
            "max_width": null,
            "min_height": null,
            "min_width": null,
            "object_fit": null,
            "object_position": null,
            "order": null,
            "overflow": null,
            "overflow_x": null,
            "overflow_y": null,
            "padding": null,
            "right": null,
            "top": null,
            "visibility": null,
            "width": null
          }
        },
        "d05c2f7758eb498fb9883f3168376a28": {
          "model_module": "@jupyter-widgets/controls",
          "model_name": "DescriptionStyleModel",
          "model_module_version": "1.5.0",
          "state": {
            "_model_module": "@jupyter-widgets/controls",
            "_model_module_version": "1.5.0",
            "_model_name": "DescriptionStyleModel",
            "_view_count": null,
            "_view_module": "@jupyter-widgets/base",
            "_view_module_version": "1.2.0",
            "_view_name": "StyleView",
            "description_width": ""
          }
        },
        "7e81d645935d48d8a555ef3e4d0fb552": {
          "model_module": "@jupyter-widgets/controls",
          "model_name": "HBoxModel",
          "model_module_version": "1.5.0",
          "state": {
            "_dom_classes": [],
            "_model_module": "@jupyter-widgets/controls",
            "_model_module_version": "1.5.0",
            "_model_name": "HBoxModel",
            "_view_count": null,
            "_view_module": "@jupyter-widgets/controls",
            "_view_module_version": "1.5.0",
            "_view_name": "HBoxView",
            "box_style": "",
            "children": [
              "IPY_MODEL_236390d7ac2d44ce9eddcbe2b242e76f",
              "IPY_MODEL_fe8d7394513d4ae18f1785600f9b7e1d",
              "IPY_MODEL_56795509dfb142d192a78980b722fe2e"
            ],
            "layout": "IPY_MODEL_85f7524d58e5476880cf04ca2ec96e5e"
          }
        },
        "236390d7ac2d44ce9eddcbe2b242e76f": {
          "model_module": "@jupyter-widgets/controls",
          "model_name": "HTMLModel",
          "model_module_version": "1.5.0",
          "state": {
            "_dom_classes": [],
            "_model_module": "@jupyter-widgets/controls",
            "_model_module_version": "1.5.0",
            "_model_name": "HTMLModel",
            "_view_count": null,
            "_view_module": "@jupyter-widgets/controls",
            "_view_module_version": "1.5.0",
            "_view_name": "HTMLView",
            "description": "",
            "description_tooltip": null,
            "layout": "IPY_MODEL_0e87221be92841c99e9c11fdfa3bf56f",
            "placeholder": "​",
            "style": "IPY_MODEL_e71045bdbf8c47dfa3bcf7bbbdb9c8bd",
            "value": "100%"
          }
        },
        "fe8d7394513d4ae18f1785600f9b7e1d": {
          "model_module": "@jupyter-widgets/controls",
          "model_name": "FloatProgressModel",
          "model_module_version": "1.5.0",
          "state": {
            "_dom_classes": [],
            "_model_module": "@jupyter-widgets/controls",
            "_model_module_version": "1.5.0",
            "_model_name": "FloatProgressModel",
            "_view_count": null,
            "_view_module": "@jupyter-widgets/controls",
            "_view_module_version": "1.5.0",
            "_view_name": "ProgressView",
            "bar_style": "success",
            "description": "",
            "description_tooltip": null,
            "layout": "IPY_MODEL_151012fceb2249eda27eb40a6f5790a7",
            "max": 511,
            "min": 0,
            "orientation": "horizontal",
            "style": "IPY_MODEL_10cb44584a1f432da0861d70c5e481ee",
            "value": 511
          }
        },
        "56795509dfb142d192a78980b722fe2e": {
          "model_module": "@jupyter-widgets/controls",
          "model_name": "HTMLModel",
          "model_module_version": "1.5.0",
          "state": {
            "_dom_classes": [],
            "_model_module": "@jupyter-widgets/controls",
            "_model_module_version": "1.5.0",
            "_model_name": "HTMLModel",
            "_view_count": null,
            "_view_module": "@jupyter-widgets/controls",
            "_view_module_version": "1.5.0",
            "_view_name": "HTMLView",
            "description": "",
            "description_tooltip": null,
            "layout": "IPY_MODEL_9559266b47c54792962aaa33f66936ef",
            "placeholder": "​",
            "style": "IPY_MODEL_b8de6f1c49ec46a899e66344c5fae93b",
            "value": " 511/511 [01:46&lt;00:00,  7.90it/s]"
          }
        },
        "85f7524d58e5476880cf04ca2ec96e5e": {
          "model_module": "@jupyter-widgets/base",
          "model_name": "LayoutModel",
          "model_module_version": "1.2.0",
          "state": {
            "_model_module": "@jupyter-widgets/base",
            "_model_module_version": "1.2.0",
            "_model_name": "LayoutModel",
            "_view_count": null,
            "_view_module": "@jupyter-widgets/base",
            "_view_module_version": "1.2.0",
            "_view_name": "LayoutView",
            "align_content": null,
            "align_items": null,
            "align_self": null,
            "border": null,
            "bottom": null,
            "display": null,
            "flex": null,
            "flex_flow": null,
            "grid_area": null,
            "grid_auto_columns": null,
            "grid_auto_flow": null,
            "grid_auto_rows": null,
            "grid_column": null,
            "grid_gap": null,
            "grid_row": null,
            "grid_template_areas": null,
            "grid_template_columns": null,
            "grid_template_rows": null,
            "height": null,
            "justify_content": null,
            "justify_items": null,
            "left": null,
            "margin": null,
            "max_height": null,
            "max_width": null,
            "min_height": null,
            "min_width": null,
            "object_fit": null,
            "object_position": null,
            "order": null,
            "overflow": null,
            "overflow_x": null,
            "overflow_y": null,
            "padding": null,
            "right": null,
            "top": null,
            "visibility": null,
            "width": null
          }
        },
        "0e87221be92841c99e9c11fdfa3bf56f": {
          "model_module": "@jupyter-widgets/base",
          "model_name": "LayoutModel",
          "model_module_version": "1.2.0",
          "state": {
            "_model_module": "@jupyter-widgets/base",
            "_model_module_version": "1.2.0",
            "_model_name": "LayoutModel",
            "_view_count": null,
            "_view_module": "@jupyter-widgets/base",
            "_view_module_version": "1.2.0",
            "_view_name": "LayoutView",
            "align_content": null,
            "align_items": null,
            "align_self": null,
            "border": null,
            "bottom": null,
            "display": null,
            "flex": null,
            "flex_flow": null,
            "grid_area": null,
            "grid_auto_columns": null,
            "grid_auto_flow": null,
            "grid_auto_rows": null,
            "grid_column": null,
            "grid_gap": null,
            "grid_row": null,
            "grid_template_areas": null,
            "grid_template_columns": null,
            "grid_template_rows": null,
            "height": null,
            "justify_content": null,
            "justify_items": null,
            "left": null,
            "margin": null,
            "max_height": null,
            "max_width": null,
            "min_height": null,
            "min_width": null,
            "object_fit": null,
            "object_position": null,
            "order": null,
            "overflow": null,
            "overflow_x": null,
            "overflow_y": null,
            "padding": null,
            "right": null,
            "top": null,
            "visibility": null,
            "width": null
          }
        },
        "e71045bdbf8c47dfa3bcf7bbbdb9c8bd": {
          "model_module": "@jupyter-widgets/controls",
          "model_name": "DescriptionStyleModel",
          "model_module_version": "1.5.0",
          "state": {
            "_model_module": "@jupyter-widgets/controls",
            "_model_module_version": "1.5.0",
            "_model_name": "DescriptionStyleModel",
            "_view_count": null,
            "_view_module": "@jupyter-widgets/base",
            "_view_module_version": "1.2.0",
            "_view_name": "StyleView",
            "description_width": ""
          }
        },
        "151012fceb2249eda27eb40a6f5790a7": {
          "model_module": "@jupyter-widgets/base",
          "model_name": "LayoutModel",
          "model_module_version": "1.2.0",
          "state": {
            "_model_module": "@jupyter-widgets/base",
            "_model_module_version": "1.2.0",
            "_model_name": "LayoutModel",
            "_view_count": null,
            "_view_module": "@jupyter-widgets/base",
            "_view_module_version": "1.2.0",
            "_view_name": "LayoutView",
            "align_content": null,
            "align_items": null,
            "align_self": null,
            "border": null,
            "bottom": null,
            "display": null,
            "flex": null,
            "flex_flow": null,
            "grid_area": null,
            "grid_auto_columns": null,
            "grid_auto_flow": null,
            "grid_auto_rows": null,
            "grid_column": null,
            "grid_gap": null,
            "grid_row": null,
            "grid_template_areas": null,
            "grid_template_columns": null,
            "grid_template_rows": null,
            "height": null,
            "justify_content": null,
            "justify_items": null,
            "left": null,
            "margin": null,
            "max_height": null,
            "max_width": null,
            "min_height": null,
            "min_width": null,
            "object_fit": null,
            "object_position": null,
            "order": null,
            "overflow": null,
            "overflow_x": null,
            "overflow_y": null,
            "padding": null,
            "right": null,
            "top": null,
            "visibility": null,
            "width": null
          }
        },
        "10cb44584a1f432da0861d70c5e481ee": {
          "model_module": "@jupyter-widgets/controls",
          "model_name": "ProgressStyleModel",
          "model_module_version": "1.5.0",
          "state": {
            "_model_module": "@jupyter-widgets/controls",
            "_model_module_version": "1.5.0",
            "_model_name": "ProgressStyleModel",
            "_view_count": null,
            "_view_module": "@jupyter-widgets/base",
            "_view_module_version": "1.2.0",
            "_view_name": "StyleView",
            "bar_color": null,
            "description_width": ""
          }
        },
        "9559266b47c54792962aaa33f66936ef": {
          "model_module": "@jupyter-widgets/base",
          "model_name": "LayoutModel",
          "model_module_version": "1.2.0",
          "state": {
            "_model_module": "@jupyter-widgets/base",
            "_model_module_version": "1.2.0",
            "_model_name": "LayoutModel",
            "_view_count": null,
            "_view_module": "@jupyter-widgets/base",
            "_view_module_version": "1.2.0",
            "_view_name": "LayoutView",
            "align_content": null,
            "align_items": null,
            "align_self": null,
            "border": null,
            "bottom": null,
            "display": null,
            "flex": null,
            "flex_flow": null,
            "grid_area": null,
            "grid_auto_columns": null,
            "grid_auto_flow": null,
            "grid_auto_rows": null,
            "grid_column": null,
            "grid_gap": null,
            "grid_row": null,
            "grid_template_areas": null,
            "grid_template_columns": null,
            "grid_template_rows": null,
            "height": null,
            "justify_content": null,
            "justify_items": null,
            "left": null,
            "margin": null,
            "max_height": null,
            "max_width": null,
            "min_height": null,
            "min_width": null,
            "object_fit": null,
            "object_position": null,
            "order": null,
            "overflow": null,
            "overflow_x": null,
            "overflow_y": null,
            "padding": null,
            "right": null,
            "top": null,
            "visibility": null,
            "width": null
          }
        },
        "b8de6f1c49ec46a899e66344c5fae93b": {
          "model_module": "@jupyter-widgets/controls",
          "model_name": "DescriptionStyleModel",
          "model_module_version": "1.5.0",
          "state": {
            "_model_module": "@jupyter-widgets/controls",
            "_model_module_version": "1.5.0",
            "_model_name": "DescriptionStyleModel",
            "_view_count": null,
            "_view_module": "@jupyter-widgets/base",
            "_view_module_version": "1.2.0",
            "_view_name": "StyleView",
            "description_width": ""
          }
        },
        "588bfe04200f41eda6c7254534ee4799": {
          "model_module": "@jupyter-widgets/controls",
          "model_name": "HBoxModel",
          "model_module_version": "1.5.0",
          "state": {
            "_dom_classes": [],
            "_model_module": "@jupyter-widgets/controls",
            "_model_module_version": "1.5.0",
            "_model_name": "HBoxModel",
            "_view_count": null,
            "_view_module": "@jupyter-widgets/controls",
            "_view_module_version": "1.5.0",
            "_view_name": "HBoxView",
            "box_style": "",
            "children": [
              "IPY_MODEL_b7d6f3283c294b369024c4fe0ad5f328",
              "IPY_MODEL_f105c4e36c2b410f9444da97146b78cc",
              "IPY_MODEL_7b124bd340ca47eb96db99046c2c147f"
            ],
            "layout": "IPY_MODEL_c1989acc91c04be1a6fb2d321abbdb43"
          }
        },
        "b7d6f3283c294b369024c4fe0ad5f328": {
          "model_module": "@jupyter-widgets/controls",
          "model_name": "HTMLModel",
          "model_module_version": "1.5.0",
          "state": {
            "_dom_classes": [],
            "_model_module": "@jupyter-widgets/controls",
            "_model_module_version": "1.5.0",
            "_model_name": "HTMLModel",
            "_view_count": null,
            "_view_module": "@jupyter-widgets/controls",
            "_view_module_version": "1.5.0",
            "_view_name": "HTMLView",
            "description": "",
            "description_tooltip": null,
            "layout": "IPY_MODEL_c1dfcc5064e145169c24817d8912680a",
            "placeholder": "​",
            "style": "IPY_MODEL_9a699342acef4fd5b4bed3df16677420",
            "value": "100%"
          }
        },
        "f105c4e36c2b410f9444da97146b78cc": {
          "model_module": "@jupyter-widgets/controls",
          "model_name": "FloatProgressModel",
          "model_module_version": "1.5.0",
          "state": {
            "_dom_classes": [],
            "_model_module": "@jupyter-widgets/controls",
            "_model_module_version": "1.5.0",
            "_model_name": "FloatProgressModel",
            "_view_count": null,
            "_view_module": "@jupyter-widgets/controls",
            "_view_module_version": "1.5.0",
            "_view_name": "ProgressView",
            "bar_style": "success",
            "description": "",
            "description_tooltip": null,
            "layout": "IPY_MODEL_745ca3a2544d45328ee727fa30906fdb",
            "max": 628,
            "min": 0,
            "orientation": "horizontal",
            "style": "IPY_MODEL_a177446447ab43da9973edb2f7a1fa2c",
            "value": 628
          }
        },
        "7b124bd340ca47eb96db99046c2c147f": {
          "model_module": "@jupyter-widgets/controls",
          "model_name": "HTMLModel",
          "model_module_version": "1.5.0",
          "state": {
            "_dom_classes": [],
            "_model_module": "@jupyter-widgets/controls",
            "_model_module_version": "1.5.0",
            "_model_name": "HTMLModel",
            "_view_count": null,
            "_view_module": "@jupyter-widgets/controls",
            "_view_module_version": "1.5.0",
            "_view_name": "HTMLView",
            "description": "",
            "description_tooltip": null,
            "layout": "IPY_MODEL_85d448baaa2b483885f70c7f7e5821c6",
            "placeholder": "​",
            "style": "IPY_MODEL_fb1ef7acfaea4bbcbdfe08a589c23281",
            "value": " 628/628 [09:06&lt;00:00,  1.18it/s]"
          }
        },
        "c1989acc91c04be1a6fb2d321abbdb43": {
          "model_module": "@jupyter-widgets/base",
          "model_name": "LayoutModel",
          "model_module_version": "1.2.0",
          "state": {
            "_model_module": "@jupyter-widgets/base",
            "_model_module_version": "1.2.0",
            "_model_name": "LayoutModel",
            "_view_count": null,
            "_view_module": "@jupyter-widgets/base",
            "_view_module_version": "1.2.0",
            "_view_name": "LayoutView",
            "align_content": null,
            "align_items": null,
            "align_self": null,
            "border": null,
            "bottom": null,
            "display": null,
            "flex": null,
            "flex_flow": null,
            "grid_area": null,
            "grid_auto_columns": null,
            "grid_auto_flow": null,
            "grid_auto_rows": null,
            "grid_column": null,
            "grid_gap": null,
            "grid_row": null,
            "grid_template_areas": null,
            "grid_template_columns": null,
            "grid_template_rows": null,
            "height": null,
            "justify_content": null,
            "justify_items": null,
            "left": null,
            "margin": null,
            "max_height": null,
            "max_width": null,
            "min_height": null,
            "min_width": null,
            "object_fit": null,
            "object_position": null,
            "order": null,
            "overflow": null,
            "overflow_x": null,
            "overflow_y": null,
            "padding": null,
            "right": null,
            "top": null,
            "visibility": null,
            "width": null
          }
        },
        "c1dfcc5064e145169c24817d8912680a": {
          "model_module": "@jupyter-widgets/base",
          "model_name": "LayoutModel",
          "model_module_version": "1.2.0",
          "state": {
            "_model_module": "@jupyter-widgets/base",
            "_model_module_version": "1.2.0",
            "_model_name": "LayoutModel",
            "_view_count": null,
            "_view_module": "@jupyter-widgets/base",
            "_view_module_version": "1.2.0",
            "_view_name": "LayoutView",
            "align_content": null,
            "align_items": null,
            "align_self": null,
            "border": null,
            "bottom": null,
            "display": null,
            "flex": null,
            "flex_flow": null,
            "grid_area": null,
            "grid_auto_columns": null,
            "grid_auto_flow": null,
            "grid_auto_rows": null,
            "grid_column": null,
            "grid_gap": null,
            "grid_row": null,
            "grid_template_areas": null,
            "grid_template_columns": null,
            "grid_template_rows": null,
            "height": null,
            "justify_content": null,
            "justify_items": null,
            "left": null,
            "margin": null,
            "max_height": null,
            "max_width": null,
            "min_height": null,
            "min_width": null,
            "object_fit": null,
            "object_position": null,
            "order": null,
            "overflow": null,
            "overflow_x": null,
            "overflow_y": null,
            "padding": null,
            "right": null,
            "top": null,
            "visibility": null,
            "width": null
          }
        },
        "9a699342acef4fd5b4bed3df16677420": {
          "model_module": "@jupyter-widgets/controls",
          "model_name": "DescriptionStyleModel",
          "model_module_version": "1.5.0",
          "state": {
            "_model_module": "@jupyter-widgets/controls",
            "_model_module_version": "1.5.0",
            "_model_name": "DescriptionStyleModel",
            "_view_count": null,
            "_view_module": "@jupyter-widgets/base",
            "_view_module_version": "1.2.0",
            "_view_name": "StyleView",
            "description_width": ""
          }
        },
        "745ca3a2544d45328ee727fa30906fdb": {
          "model_module": "@jupyter-widgets/base",
          "model_name": "LayoutModel",
          "model_module_version": "1.2.0",
          "state": {
            "_model_module": "@jupyter-widgets/base",
            "_model_module_version": "1.2.0",
            "_model_name": "LayoutModel",
            "_view_count": null,
            "_view_module": "@jupyter-widgets/base",
            "_view_module_version": "1.2.0",
            "_view_name": "LayoutView",
            "align_content": null,
            "align_items": null,
            "align_self": null,
            "border": null,
            "bottom": null,
            "display": null,
            "flex": null,
            "flex_flow": null,
            "grid_area": null,
            "grid_auto_columns": null,
            "grid_auto_flow": null,
            "grid_auto_rows": null,
            "grid_column": null,
            "grid_gap": null,
            "grid_row": null,
            "grid_template_areas": null,
            "grid_template_columns": null,
            "grid_template_rows": null,
            "height": null,
            "justify_content": null,
            "justify_items": null,
            "left": null,
            "margin": null,
            "max_height": null,
            "max_width": null,
            "min_height": null,
            "min_width": null,
            "object_fit": null,
            "object_position": null,
            "order": null,
            "overflow": null,
            "overflow_x": null,
            "overflow_y": null,
            "padding": null,
            "right": null,
            "top": null,
            "visibility": null,
            "width": null
          }
        },
        "a177446447ab43da9973edb2f7a1fa2c": {
          "model_module": "@jupyter-widgets/controls",
          "model_name": "ProgressStyleModel",
          "model_module_version": "1.5.0",
          "state": {
            "_model_module": "@jupyter-widgets/controls",
            "_model_module_version": "1.5.0",
            "_model_name": "ProgressStyleModel",
            "_view_count": null,
            "_view_module": "@jupyter-widgets/base",
            "_view_module_version": "1.2.0",
            "_view_name": "StyleView",
            "bar_color": null,
            "description_width": ""
          }
        },
        "85d448baaa2b483885f70c7f7e5821c6": {
          "model_module": "@jupyter-widgets/base",
          "model_name": "LayoutModel",
          "model_module_version": "1.2.0",
          "state": {
            "_model_module": "@jupyter-widgets/base",
            "_model_module_version": "1.2.0",
            "_model_name": "LayoutModel",
            "_view_count": null,
            "_view_module": "@jupyter-widgets/base",
            "_view_module_version": "1.2.0",
            "_view_name": "LayoutView",
            "align_content": null,
            "align_items": null,
            "align_self": null,
            "border": null,
            "bottom": null,
            "display": null,
            "flex": null,
            "flex_flow": null,
            "grid_area": null,
            "grid_auto_columns": null,
            "grid_auto_flow": null,
            "grid_auto_rows": null,
            "grid_column": null,
            "grid_gap": null,
            "grid_row": null,
            "grid_template_areas": null,
            "grid_template_columns": null,
            "grid_template_rows": null,
            "height": null,
            "justify_content": null,
            "justify_items": null,
            "left": null,
            "margin": null,
            "max_height": null,
            "max_width": null,
            "min_height": null,
            "min_width": null,
            "object_fit": null,
            "object_position": null,
            "order": null,
            "overflow": null,
            "overflow_x": null,
            "overflow_y": null,
            "padding": null,
            "right": null,
            "top": null,
            "visibility": null,
            "width": null
          }
        },
        "fb1ef7acfaea4bbcbdfe08a589c23281": {
          "model_module": "@jupyter-widgets/controls",
          "model_name": "DescriptionStyleModel",
          "model_module_version": "1.5.0",
          "state": {
            "_model_module": "@jupyter-widgets/controls",
            "_model_module_version": "1.5.0",
            "_model_name": "DescriptionStyleModel",
            "_view_count": null,
            "_view_module": "@jupyter-widgets/base",
            "_view_module_version": "1.2.0",
            "_view_name": "StyleView",
            "description_width": ""
          }
        }
      }
    }
  },
  "cells": [
    {
      "cell_type": "markdown",
      "source": [
        "# Atividade 11b - Treinar um classificador SVM\n",
        "\n",
        "Matheus Xavier Sampaio           RA: 220092\n",
        "\n",
        "Guilherme Augusto Amorim Terrell RA: 168899\n",
        "\n",
        "\n",
        "Esta atividade tem como objetivo: \n",
        " \n",
        "* que permita, dada uma imagem com lesão, classificá-la como lesão \"isquêmica\" (AVC) ou \"desmielinizante\" (EM)"
      ],
      "metadata": {
        "id": "1n5OjQX-Hi6F"
      }
    },
    {
      "cell_type": "markdown",
      "source": [
        "## Bibliotecas e funções auxiliares"
      ],
      "metadata": {
        "id": "oeL_lDbHVlBr"
      }
    },
    {
      "cell_type": "code",
      "execution_count": 1,
      "metadata": {
        "id": "RUM8O-zoHaVB"
      },
      "outputs": [],
      "source": [
        "from __future__ import annotations\n",
        "\n",
        "from collections import defaultdict\n",
        "from itertools import chain\n",
        "from pathlib import Path\n",
        "\n",
        "import matplotlib.image as mpimg\n",
        "import matplotlib.pyplot as plt\n",
        "import numpy as np\n",
        "from PIL import Image, ImageOps\n",
        "from scipy import stats\n",
        "from skimage.feature import greycomatrix, greycoprops, local_binary_pattern\n",
        "from sklearn.metrics import (\n",
        "    accuracy_score, precision_score, recall_score, f1_score,\n",
        "    RocCurveDisplay\n",
        ")\n",
        "from sklearn.model_selection import KFold\n",
        "from sklearn.preprocessing import MinMaxScaler\n",
        "from sklearn.svm import SVC\n",
        "from sklearn.tree import DecisionTreeClassifier\n",
        "from tqdm.auto import tqdm"
      ]
    },
    {
      "cell_type": "code",
      "source": [
        "FIGURES = Path('/content/drive/MyDrive/Train')"
      ],
      "metadata": {
        "id": "LdcjqfiPHuz_"
      },
      "execution_count": 2,
      "outputs": []
    },
    {
      "cell_type": "code",
      "source": [
        "def read_img(path: str, grayscale: bool = True) -> np.array:\n",
        "    img = Image.open(FIGURES / path)\n",
        "    if grayscale:\n",
        "        img = ImageOps.grayscale(img)\n",
        "    return np.asarray(img)"
      ],
      "metadata": {
        "id": "1wYvXicxK2UT"
      },
      "execution_count": 3,
      "outputs": []
    },
    {
      "cell_type": "code",
      "source": [
        "def get_file_paths(dirname, exts, dir=FIGURES):\n",
        "    if isinstance(exts, str):\n",
        "        exts = [exts]\n",
        "    \n",
        "    files = []\n",
        "    for ext in exts:\n",
        "        files.extend((dir / dirname).glob(f'*.{ext}'))\n",
        "    return files"
      ],
      "metadata": {
        "id": "QpGdpdLEIIXV"
      },
      "execution_count": 4,
      "outputs": []
    },
    {
      "cell_type": "markdown",
      "source": [
        "## Leitura das imagens"
      ],
      "metadata": {
        "id": "GMsOObmhV6a4"
      }
    },
    {
      "cell_type": "code",
      "source": [
        "avc_images = get_file_paths('AVC', ['bmp', 'png'])\n",
        "em_images = get_file_paths('EM', ['bmp', 'png'])"
      ],
      "metadata": {
        "id": "oA05mfk-Ij8M"
      },
      "execution_count": 5,
      "outputs": []
    },
    {
      "cell_type": "code",
      "source": [
        "len(avc_images), len(em_images)"
      ],
      "metadata": {
        "colab": {
          "base_uri": "https://localhost:8080/"
        },
        "id": "IOCCE-fMIuwI",
        "outputId": "38ee7fb8-6d2a-4ef9-89e2-08814846bd75"
      },
      "execution_count": 6,
      "outputs": [
        {
          "output_type": "execute_result",
          "data": {
            "text/plain": [
              "(2056, 2974)"
            ]
          },
          "metadata": {},
          "execution_count": 6
        }
      ]
    },
    {
      "cell_type": "code",
      "source": [
        "avc_brain = list(filter(lambda x: 'mask' not in str(x), avc_images))\n",
        "em_brain = list(filter(lambda x: 'mask' not in str(x), em_images))"
      ],
      "metadata": {
        "id": "49kDYh5rJJhS"
      },
      "execution_count": 7,
      "outputs": []
    },
    {
      "cell_type": "code",
      "source": [
        "len(avc_brain), len(em_brain)"
      ],
      "metadata": {
        "colab": {
          "base_uri": "https://localhost:8080/"
        },
        "id": "lh_fCw5pK_-U",
        "outputId": "683eb6e1-13b3-416a-f4b5-a73cce4d3277"
      },
      "execution_count": 8,
      "outputs": [
        {
          "output_type": "execute_result",
          "data": {
            "text/plain": [
              "(1475, 2344)"
            ]
          },
          "metadata": {},
          "execution_count": 8
        }
      ]
    },
    {
      "cell_type": "code",
      "source": [
        "avc_masks = list(filter(lambda x: 'mask' in str(x), avc_images))\n",
        "em_masks = list(filter(lambda x: 'mask' in str(x), em_images))"
      ],
      "metadata": {
        "id": "dYnnesh3EWcm"
      },
      "execution_count": 9,
      "outputs": []
    },
    {
      "cell_type": "code",
      "source": [
        "len(avc_masks), len(em_masks)"
      ],
      "metadata": {
        "colab": {
          "base_uri": "https://localhost:8080/"
        },
        "id": "xPlOvJRVG4xL",
        "outputId": "be0ac9d7-2c4b-4cb0-8285-8a06dff95d98"
      },
      "execution_count": 10,
      "outputs": [
        {
          "output_type": "execute_result",
          "data": {
            "text/plain": [
              "(581, 630)"
            ]
          },
          "metadata": {},
          "execution_count": 10
        }
      ]
    },
    {
      "cell_type": "markdown",
      "source": [
        "Para AVC, temos 1475 imagens e 581 máscaras.\n",
        "\n",
        "Para EM, temos 2344 imagens e 630 máscaras.\n",
        "\n",
        "Agora, agruparemos as imagens e máscaras por cada paciente."
      ],
      "metadata": {
        "id": "w8tVQFyVWAQc"
      }
    },
    {
      "cell_type": "code",
      "source": [
        "avc_mask_patients = defaultdict(list)\n",
        "\n",
        "for img in avc_masks:\n",
        "    pct = img.stem.split('_')[0]\n",
        "    flair = img.stem.split('_')[1]\n",
        "    avc_mask_patients[pct].append(flair)\n",
        "\n",
        "len(avc_mask_patients)"
      ],
      "metadata": {
        "colab": {
          "base_uri": "https://localhost:8080/"
        },
        "id": "62UEP2saEklt",
        "outputId": "a699e29b-a0a2-476a-b3f1-d29f1a717923"
      },
      "execution_count": 11,
      "outputs": [
        {
          "output_type": "execute_result",
          "data": {
            "text/plain": [
              "50"
            ]
          },
          "metadata": {},
          "execution_count": 11
        }
      ]
    },
    {
      "cell_type": "code",
      "source": [
        "em_mask_patients = defaultdict(list)\n",
        "\n",
        "for img in em_masks:\n",
        "    pct = img.stem.split('_')[0]\n",
        "    flair = img.stem.split('_')[1]\n",
        "    em_mask_patients[pct].append(flair)\n",
        "\n",
        "len(em_mask_patients)"
      ],
      "metadata": {
        "colab": {
          "base_uri": "https://localhost:8080/"
        },
        "id": "AgcRqgjUE7NI",
        "outputId": "d110141c-35dd-4064-87a6-9c6a63698b19"
      },
      "execution_count": 12,
      "outputs": [
        {
          "output_type": "execute_result",
          "data": {
            "text/plain": [
              "51"
            ]
          },
          "metadata": {},
          "execution_count": 12
        }
      ]
    },
    {
      "cell_type": "markdown",
      "source": [
        "Estes são exemplos de imagens que possuem mascara para dois pacientes, um de AVC e um de EM."
      ],
      "metadata": {
        "id": "1FUlvIcUWeT4"
      }
    },
    {
      "cell_type": "code",
      "source": [
        "avc_mask_patients['001'], em_mask_patients['060']"
      ],
      "metadata": {
        "colab": {
          "base_uri": "https://localhost:8080/"
        },
        "id": "QfvHK5CHE-ap",
        "outputId": "2c087149-9720-4714-fd7d-8c0b8ce18bd0"
      },
      "execution_count": 13,
      "outputs": [
        {
          "output_type": "execute_result",
          "data": {
            "text/plain": [
              "(['FLAIR18', 'FLAIR19', 'FLAIR20', 'FLAIR21'],\n",
              " ['FLAIR13',\n",
              "  'FLAIR14',\n",
              "  'FLAIR15',\n",
              "  'FLAIR16',\n",
              "  'FLAIR17',\n",
              "  'FLAIR18',\n",
              "  'FLAIR19',\n",
              "  'FLAIR20',\n",
              "  'FLAIR21',\n",
              "  'FLAIR22'])"
            ]
          },
          "metadata": {},
          "execution_count": 13
        }
      ]
    },
    {
      "cell_type": "markdown",
      "source": [
        "Apenas algumas imagens possuem máscara, o que indica que apenas em algumas imagens podemos observar lesão. Filtraremos as imagens para conter apenas aquelas que apresentam lesão."
      ],
      "metadata": {
        "id": "A6VyO_iQW9-6"
      }
    },
    {
      "cell_type": "code",
      "source": [
        "avc_patients = defaultdict(list)\n",
        "\n",
        "for img in avc_brain:\n",
        "    pct = img.stem.split('_')[0]\n",
        "    flair = img.stem.split('_')[1]\n",
        "    if flair in avc_mask_patients[pct]:\n",
        "        avc_patients[pct].append(img)"
      ],
      "metadata": {
        "id": "zNvRfh71JFFL"
      },
      "execution_count": 14,
      "outputs": []
    },
    {
      "cell_type": "code",
      "source": [
        "em_patients = defaultdict(list)\n",
        "\n",
        "for img in em_brain:\n",
        "    pct = img.stem.split('_')[0]\n",
        "    flair = img.stem.split('_')[1]\n",
        "    if flair in em_mask_patients[pct]:\n",
        "        em_patients[pct].append(img)"
      ],
      "metadata": {
        "id": "ZvM_wVttJ7S8"
      },
      "execution_count": 15,
      "outputs": []
    },
    {
      "cell_type": "code",
      "source": [
        "avc_patients['001']"
      ],
      "metadata": {
        "colab": {
          "base_uri": "https://localhost:8080/"
        },
        "id": "AJ5zUOLHFlZ-",
        "outputId": "398280bb-1efd-46c1-a439-dfcbb745dc2f"
      },
      "execution_count": 16,
      "outputs": [
        {
          "output_type": "execute_result",
          "data": {
            "text/plain": [
              "[PosixPath('/content/drive/MyDrive/Train/AVC/001_FLAIR18.bmp'),\n",
              " PosixPath('/content/drive/MyDrive/Train/AVC/001_FLAIR19.bmp'),\n",
              " PosixPath('/content/drive/MyDrive/Train/AVC/001_FLAIR20.bmp'),\n",
              " PosixPath('/content/drive/MyDrive/Train/AVC/001_FLAIR21.bmp')]"
            ]
          },
          "metadata": {},
          "execution_count": 16
        }
      ]
    },
    {
      "cell_type": "code",
      "source": [
        "em_patients['060']"
      ],
      "metadata": {
        "colab": {
          "base_uri": "https://localhost:8080/"
        },
        "id": "E2oXYsWaFpMB",
        "outputId": "ded2acf6-4787-4ecd-91f6-657702ca54dc"
      },
      "execution_count": 17,
      "outputs": [
        {
          "output_type": "execute_result",
          "data": {
            "text/plain": [
              "[PosixPath('/content/drive/MyDrive/Train/EM/060_FLAIR13.bmp'),\n",
              " PosixPath('/content/drive/MyDrive/Train/EM/060_FLAIR14.bmp'),\n",
              " PosixPath('/content/drive/MyDrive/Train/EM/060_FLAIR15.bmp'),\n",
              " PosixPath('/content/drive/MyDrive/Train/EM/060_FLAIR16.bmp'),\n",
              " PosixPath('/content/drive/MyDrive/Train/EM/060_FLAIR17.bmp'),\n",
              " PosixPath('/content/drive/MyDrive/Train/EM/060_FLAIR18.bmp'),\n",
              " PosixPath('/content/drive/MyDrive/Train/EM/060_FLAIR19.bmp'),\n",
              " PosixPath('/content/drive/MyDrive/Train/EM/060_FLAIR20.bmp'),\n",
              " PosixPath('/content/drive/MyDrive/Train/EM/060_FLAIR21.bmp'),\n",
              " PosixPath('/content/drive/MyDrive/Train/EM/060_FLAIR22.bmp')]"
            ]
          },
          "metadata": {},
          "execution_count": 17
        }
      ]
    },
    {
      "cell_type": "markdown",
      "source": [
        "## Features e preparação dos dados de treino"
      ],
      "metadata": {
        "id": "iSDSFIiNYZSI"
      }
    },
    {
      "cell_type": "markdown",
      "source": [
        "Como features, ecolhemos utilizar as seguintes estatisticas de histograma:\n",
        "- Desvio padrão\n",
        "- Variância\n",
        "- Mediana\n",
        "- Moda\n",
        "- Skewness\n",
        "- Kurtosis\n",
        "- Entropia\n",
        "\n",
        "Estas foram calculadas no histograma da imagem e no histograma do LBP. Também utilizamos o valor de contraste da Matrix de Coocorrencia. O algorítmo para calculo para características do GLRLM apresentou tempo de execução muito elevado, assim, resolvemos não utilizar este.\n",
        "\n",
        "Os valores utilizados no LBP e Matriz de Coocorrencia foram escolhidos de acordo com os experimentos nas atividades anteriores. Também de acordo com os experimentos, resolvemos não aplicar normalização nas imagens."
      ],
      "metadata": {
        "id": "feBN5A0FYc34"
      }
    },
    {
      "cell_type": "code",
      "source": [
        "def calc_histogram_statistics(hist):\n",
        "    return [\n",
        "        np.std(hist),\n",
        "        np.var(hist),\n",
        "        stats.mode(hist, axis=None).mode[0],\n",
        "        np.median(hist),\n",
        "        stats.skew(hist),\n",
        "        stats.kurtosis(hist),\n",
        "        stats.entropy(hist)\n",
        "    ]"
      ],
      "metadata": {
        "id": "e5qJ8v5rO-PZ"
      },
      "execution_count": 18,
      "outputs": []
    },
    {
      "cell_type": "code",
      "source": [
        "def features_generator(data):\n",
        "    images_patient = [\n",
        "        [k] * len(v) for k, v in data.items()\n",
        "    ]\n",
        "    images_patient = list(chain(*images_patient))\n",
        "    images_paths = list(chain(*data.values()))\n",
        "\n",
        "    features = defaultdict(list)\n",
        "    for p, img in tqdm(zip(images_patient, images_paths), total=len(images_patient)):\n",
        "        img_array = read_img(img)\n",
        "    \n",
        "        hist, _ = np.histogram(img_array, bins=50)\n",
        "\n",
        "        hist_stats = calc_histogram_statistics(hist)\n",
        "        contrast = greycoprops(\n",
        "            greycomatrix(img_array.copy(), distances=[15], angles=[45, 90, 135], levels=256, symmetric=True, normed=True),\n",
        "            prop='contrast'\n",
        "        )[0]\n",
        "        lbp_histogram, _ = np.histogram(local_binary_pattern(img_array, 8 * 3, 3, 'uniform'), bins=50)\n",
        "        lbp_hist_stats = calc_histogram_statistics(lbp_histogram)\n",
        "\n",
        "        feats = list(contrast) + list(hist_stats) + list(lbp_hist_stats)         \n",
        "        features[p].append(feats)\n",
        "\n",
        "    return features"
      ],
      "metadata": {
        "id": "avgdm4vcKHEy"
      },
      "execution_count": 19,
      "outputs": []
    },
    {
      "cell_type": "code",
      "source": [
        "avc_features = features_generator(avc_patients)\n",
        "em_features = features_generator(em_patients)"
      ],
      "metadata": {
        "colab": {
          "base_uri": "https://localhost:8080/",
          "height": 81,
          "referenced_widgets": [
            "7e81d645935d48d8a555ef3e4d0fb552",
            "236390d7ac2d44ce9eddcbe2b242e76f",
            "fe8d7394513d4ae18f1785600f9b7e1d",
            "56795509dfb142d192a78980b722fe2e",
            "85f7524d58e5476880cf04ca2ec96e5e",
            "0e87221be92841c99e9c11fdfa3bf56f",
            "e71045bdbf8c47dfa3bcf7bbbdb9c8bd",
            "151012fceb2249eda27eb40a6f5790a7",
            "10cb44584a1f432da0861d70c5e481ee",
            "9559266b47c54792962aaa33f66936ef",
            "b8de6f1c49ec46a899e66344c5fae93b",
            "588bfe04200f41eda6c7254534ee4799",
            "b7d6f3283c294b369024c4fe0ad5f328",
            "f105c4e36c2b410f9444da97146b78cc",
            "7b124bd340ca47eb96db99046c2c147f",
            "c1989acc91c04be1a6fb2d321abbdb43",
            "c1dfcc5064e145169c24817d8912680a",
            "9a699342acef4fd5b4bed3df16677420",
            "745ca3a2544d45328ee727fa30906fdb",
            "a177446447ab43da9973edb2f7a1fa2c",
            "85d448baaa2b483885f70c7f7e5821c6",
            "fb1ef7acfaea4bbcbdfe08a589c23281"
          ]
        },
        "id": "LdxB7LYJXegd",
        "outputId": "c0418d96-595e-4c11-f261-d4f3703bc55a"
      },
      "execution_count": 20,
      "outputs": [
        {
          "output_type": "display_data",
          "data": {
            "text/plain": [
              "  0%|          | 0/511 [00:00<?, ?it/s]"
            ],
            "application/vnd.jupyter.widget-view+json": {
              "version_major": 2,
              "version_minor": 0,
              "model_id": "7e81d645935d48d8a555ef3e4d0fb552"
            }
          },
          "metadata": {}
        },
        {
          "output_type": "display_data",
          "data": {
            "text/plain": [
              "  0%|          | 0/628 [00:00<?, ?it/s]"
            ],
            "application/vnd.jupyter.widget-view+json": {
              "version_major": 2,
              "version_minor": 0,
              "model_id": "588bfe04200f41eda6c7254534ee4799"
            }
          },
          "metadata": {}
        }
      ]
    },
    {
      "cell_type": "markdown",
      "source": [
        "Para lidar com os multiplos pacientes, e para dados de pacientes não estarem presentes no treino e validação, adotamos a estratégia de separar os dados de treinamento de acordo com os identificadores dos pacientes.\n",
        "\n",
        "Cada iteração do KFold irá dividir os conjuntos de identificadores em treino e validação. Estes ids serão fornecidos com as caracteristicas, que serão transformadas de modo que possam ser fornecidas ao classificador.\n",
        "\n",
        "O classificador usará 0 como AVC e 1 como EM. Apos gerar o X e y de treino, realizamos a normalização dos dados para que todas as caraceterísticas apresentem uma faixa de valores semelhante."
      ],
      "metadata": {
        "id": "vyk8sWTQZ-u1"
      }
    },
    {
      "cell_type": "code",
      "source": [
        "def generate_x_y(ids_avc, avc_p, ids_em, em_p, shuffle=True):\n",
        "    X_avc = list(chain(*[avc_p[i] for i in ids_avc]))\n",
        "    y_avc = [0] * len(X_avc)\n",
        "\n",
        "    X_em = list(chain(*[em_p[i] for i in ids_em]))\n",
        "\n",
        "    y_em = [1] * len(X_em)\n",
        "\n",
        "    X = np.array(X_avc + X_em)\n",
        "    y = np.array(y_avc + y_em)\n",
        "\n",
        "    if shuffle:\n",
        "        idx = np.random.permutation(len(y))\n",
        "        X = X[idx]\n",
        "        y = y[idx]\n",
        "\n",
        "    return X, y"
      ],
      "metadata": {
        "id": "7Q1We5dFSsES"
      },
      "execution_count": 28,
      "outputs": []
    },
    {
      "cell_type": "code",
      "source": [
        "k = 5\n",
        "kf = KFold(n_splits=k)\n",
        "avc_ids = np.array(list(avc_patients.keys()))\n",
        "em_ids = np.array(list(em_patients.keys()))\n",
        "\n",
        "fold_metrics = defaultdict(list)\n",
        "fig, ax = plt.subplots()\n",
        "\n",
        "for i, ((train_avc, val_avc), (train_em, val_em)) in enumerate(zip(kf.split(avc_ids), kf.split(em_ids)), start=1):\n",
        "    X_train, y_train = generate_x_y(avc_ids[train_avc], avc_features, em_ids[train_em], em_features, shuffle=True)\n",
        "    X_val, y_val = generate_x_y(avc_ids[val_avc], avc_features, em_ids[val_em], em_features, shuffle=False)\n",
        "\n",
        "    scaler = MinMaxScaler()\n",
        "    X_train = scaler.fit_transform(X_train)\n",
        "    X_val = scaler.transform(X_val)\n",
        "\n",
        "    clf = SVC(kernel='linear')\n",
        "    clf.fit(X_train, y_train)\n",
        "    y_pred = clf.predict(X_val)\n",
        "    fold_metrics['Acurácia'].append((accuracy_score(y_pred, y_val) * 100))\n",
        "    fold_metrics['Precisão'].append((precision_score(y_pred, y_val) * 100))\n",
        "    fold_metrics['Revocação'].append((recall_score(y_pred, y_val) * 100))\n",
        "    fold_metrics['F1'].append((f1_score(y_pred, y_val) * 100))\n",
        "\n",
        "    RocCurveDisplay.from_predictions(y_pred, y_val, ax=ax, name=f'Fold: {i}')\n",
        "\n",
        "ax.plot([0.0, 1.0], [0.0, 1.0], linestyle='dashed')\n",
        "fig.tight_layout()\n",
        "plt.show()\n",
        "\n",
        "for m, v in fold_metrics.items():\n",
        "    print(f'{m} do SVM após {k} folds: {np.mean(v):.2f} % (±{np.std(v):.2f})')"
      ],
      "metadata": {
        "id": "MjfWt9W6coLU",
        "colab": {
          "base_uri": "https://localhost:8080/",
          "height": 366
        },
        "outputId": "84be655c-bf47-439e-9cc1-1d680c25fe53"
      },
      "execution_count": 30,
      "outputs": [
        {
          "output_type": "display_data",
          "data": {
            "text/plain": [
              "<Figure size 432x288 with 1 Axes>"
            ],
            "image/png": "[encoded data removed]"
          },
          "metadata": {
            "needs_background": "light"
          }
        },
        {
          "output_type": "stream",
          "name": "stdout",
          "text": [
            "Acurácia do SVM após 5 folds: 90.17 % (±14.84)\n",
            "Precisão do SVM após 5 folds: 83.23 % (±33.54)\n",
            "Revocação do SVM após 5 folds: 96.76 % (±3.93)\n",
            "F1 do SVM após 5 folds: 83.87 % (±28.09)\n"
          ]
        }
      ]
    },
    {
      "cell_type": "code",
      "source": [
        "X_train, y_train = generate_x_y(avc_ids, avc_features, em_ids, em_features, shuffle=True)\n",
        "scaler = MinMaxScaler()\n",
        "X_train = scaler.fit_transform(X_train)\n",
        "clf = SVC(kernel='linear')\n",
        "clf.fit(X_train, y_train)"
      ],
      "metadata": {
        "id": "4x57e-o9PXU0",
        "colab": {
          "base_uri": "https://localhost:8080/"
        },
        "outputId": "604ab286-b272-40d4-caa3-375f53686cca"
      },
      "execution_count": 34,
      "outputs": [
        {
          "output_type": "execute_result",
          "data": {
            "text/plain": [
              "SVC(kernel='linear')"
            ]
          },
          "metadata": {},
          "execution_count": 34
        }
      ]
    },
    {
      "cell_type": "code",
      "source": [
        "from joblib import dump, load\n",
        "dump(clf, 'brain-classifier.joblib')\n",
        "dump(scaler, 'brain-scaler.joblib')"
      ],
      "metadata": {
        "id": "qCehS6paWCgr",
        "colab": {
          "base_uri": "https://localhost:8080/"
        },
        "outputId": "1124466b-9ba3-4fd4-c6aa-4f46eda5d7a0"
      },
      "execution_count": 35,
      "outputs": [
        {
          "output_type": "execute_result",
          "data": {
            "text/plain": [
              "['brain-scaler.joblib']"
            ]
          },
          "metadata": {},
          "execution_count": 35
        }
      ]
    },
    {
      "cell_type": "code",
      "source": [
        "import pandas as pd\n",
        "\n",
        "plt.figure(figsize=(16, 9))\n",
        "plt.rcParams.update({'font.size': 15})\n",
        "feat_names = [\n",
        " 'contraste 45°', 'contraste 90°', 'contraste 135°', \n",
        " 'desvio padrão imagem', 'variancia imagem', 'moda imagem', 'mediana imagem', 'skewness imagem', 'kurtosis imagem', 'entropia imagem',\n",
        " 'desvio padrão lbp', 'variancia lbp', 'moda lbp', 'mediana lbp', 'skewness lbp', 'kurtosis lbp', 'entropia lbp',\n",
        "]\n",
        "importance = np.abs(clf.coef_[0])\n",
        "# importance = clf.feature_importances_\n",
        "pd.Series(importance, index=feat_names).sort_values(ascending=False).head(25).plot.bar()\n",
        "plt.title('Importância da feature')\n",
        "plt.show()"
      ],
      "metadata": {
        "colab": {
          "base_uri": "https://localhost:8080/",
          "height": 721
        },
        "id": "eiPr44LZXGQz",
        "outputId": "042b0a63-5d2c-4bc7-a286-91be6532a576"
      },
      "execution_count": 36,
      "outputs": [
        {
          "output_type": "display_data",
          "data": {
            "text/plain": [
              "<Figure size 1152x648 with 1 Axes>"
            ],
            "image/png": "[encoded data removed]"
          },
          "metadata": {
            "needs_background": "light"
          }
        }
      ]
    },
    {
      "cell_type": "markdown",
      "source": [
        "## Predição no conjunto de Teste"
      ],
      "metadata": {
        "id": "qeTunKGVPTF4"
      }
    },
    {
      "cell_type": "code",
      "source": [
        "test_images = get_file_paths('Test', ['bmp', 'png'], dir=Path('/content/drive/MyDrive'))\n",
        "test_brain = list(filter(lambda x: 'mask' not in str(x), test_images))\n",
        "test_patients = defaultdict(list)\n",
        "\n",
        "for img in test_brain:\n",
        "    pct = img.stem.split('_')[0]\n",
        "    flair = img.stem.split('_')[1]\n",
        "    test_patients[pct].append(img)\n",
        "\n",
        "test_features = features_generator(test_patients)"
      ],
      "metadata": {
        "colab": {
          "base_uri": "https://localhost:8080/",
          "height": 49,
          "referenced_widgets": [
            "b815e62dbe994fe1b56f6b70d1254455",
            "d8d49119b7f047768fe5a5a033b6080d",
            "c0f9a2906fe545ee9edf78809164709c",
            "c2ddbea9cdd14215a5b68a5594d96479",
            "ac15e98441d44d8385bef578ef1071e3",
            "aa7705e4e9744f38b4a6ac9f39f6525a",
            "6a89a93c32a04246aaa0457590c88acb",
            "5bcf9176cce24cd1a2580d69ef95a039",
            "b5287f9420bd4f408aad5233c4701c25",
            "15c88e29281b468ca6306498bdcc3244",
            "d05c2f7758eb498fb9883f3168376a28"
          ]
        },
        "id": "USGELLExPW11",
        "outputId": "5f676aba-3b90-4d16-ac27-bbac336d920a"
      },
      "execution_count": null,
      "outputs": [
        {
          "output_type": "display_data",
          "data": {
            "text/plain": [
              "  0%|          | 0/225 [00:00<?, ?it/s]"
            ],
            "application/vnd.jupyter.widget-view+json": {
              "version_major": 2,
              "version_minor": 0,
              "model_id": "b815e62dbe994fe1b56f6b70d1254455"
            }
          },
          "metadata": {}
        }
      ]
    },
    {
      "cell_type": "code",
      "source": [
        "X_test = list(chain(*test_features.values()))\n",
        "X_test = scaler.transform(X_test)\n",
        "y_pred = clf.predict(X_test)"
      ],
      "metadata": {
        "id": "C0h99h82RZMm"
      },
      "execution_count": null,
      "outputs": []
    },
    {
      "cell_type": "code",
      "source": [
        "y_ids = list(test_features.keys())\n",
        "y_labels = np.where(y_pred, 'EM', 'AVC').tolist()"
      ],
      "metadata": {
        "id": "AcfMlRd0SFkx"
      },
      "execution_count": null,
      "outputs": []
    },
    {
      "cell_type": "code",
      "source": [
        "final = sorted([(k, v) for k, v in zip(y_ids, y_labels)], key=lambda x: int(x[0]))"
      ],
      "metadata": {
        "id": "WwuGlz1kSsSp"
      },
      "execution_count": null,
      "outputs": []
    },
    {
      "cell_type": "code",
      "source": [
        "with open('answer.txt', 'w') as f:\n",
        "    for k, v in final:\n",
        "        f.write(f'{k} {v}\\n')"
      ],
      "metadata": {
        "id": "_ObRiKylTOpP"
      },
      "execution_count": null,
      "outputs": []
    }
  ]
}